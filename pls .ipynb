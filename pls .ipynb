{
 "cells": [
  {
   "cell_type": "code",
   "execution_count": null,
   "id": "93e9ae45",
   "metadata": {},
   "outputs": [],
   "source": [
    "n=int(input(\"Enter a number n:\"))\n",
    "ret=str(n)\n",
    "r1=ret+ret\n",
    "r2=ret+ret+ret\n",
    "cap=n+int(r1)+int(r2)\n",
    "input(\"The value is:\",cap)"
   ]
  }
 ],
 "metadata": {
  "kernelspec": {
   "display_name": "Python 3",
   "language": "python",
   "name": "python3"
  },
  "language_info": {
   "codemirror_mode": {
    "name": "ipython",
    "version": 3
   },
   "file_extension": ".py",
   "mimetype": "text/x-python",
   "name": "python",
   "nbconvert_exporter": "python",
   "pygments_lexer": "ipython3",
   "version": "3.8.8"
  }
 },
 "nbformat": 4,
 "nbformat_minor": 5
}
